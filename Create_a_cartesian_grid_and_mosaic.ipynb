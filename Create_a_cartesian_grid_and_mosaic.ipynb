{
 "cells": [
  {
   "cell_type": "code",
   "execution_count": 1,
   "metadata": {
    "collapsed": false
   },
   "outputs": [
    {
     "name": "stdout",
     "output_type": "stream",
     "text": [
      "Populating the interactive namespace from numpy and matplotlib\n"
     ]
    }
   ],
   "source": [
    "import scipy.io.netcdf\n",
    "import numpy\n",
    "%pylab inline"
   ]
  },
  {
   "cell_type": "markdown",
   "metadata": {},
   "source": [
    "Model grid will have ni x nj h-point grid cells"
   ]
  },
  {
   "cell_type": "code",
   "execution_count": 2,
   "metadata": {
    "collapsed": true
   },
   "outputs": [],
   "source": [
    "nj,ni = 40,240"
   ]
  },
  {
   "cell_type": "markdown",
   "metadata": {},
   "source": [
    "A mosaic file has a supergrid of an integer refinement (e.g. 2*ni x 2*nj cells)"
   ]
  },
  {
   "cell_type": "code",
   "execution_count": 3,
   "metadata": {
    "collapsed": false
   },
   "outputs": [],
   "source": [
    "snj, sni = 2*nj, 2*ni"
   ]
  },
  {
   "cell_type": "markdown",
   "metadata": {},
   "source": [
    "Uniform resolution of the ocean model grid will be dxo x dyo"
   ]
  },
  {
   "cell_type": "code",
   "execution_count": 4,
   "metadata": {
    "collapsed": true
   },
   "outputs": [],
   "source": [
    "dxo = 2.e3\n",
    "dyo = 2.e3"
   ]
  },
  {
   "cell_type": "markdown",
   "metadata": {},
   "source": [
    "Number of land points used nl"
   ]
  },
  {
   "cell_type": "code",
   "execution_count": 5,
   "metadata": {
    "collapsed": true
   },
   "outputs": [],
   "source": [
    "nl=0"
   ]
  },
  {
   "cell_type": "markdown",
   "metadata": {},
   "source": [
    "Using a supergrid refinement of 2, the grid lengths, area and coordinates are:"
   ]
  },
  {
   "cell_type": "code",
   "execution_count": 6,
   "metadata": {
    "collapsed": false
   },
   "outputs": [],
   "source": [
    "dx = (0.5 * dxo) * numpy.ones((snj+1,sni))\n",
    "dy = (0.5 * dyo) * numpy.ones((snj,sni+1))\n",
    "area = (0.25 * (dxo * dyo)) * numpy.ones((snj,sni))\n",
    "x = numpy.zeros((snj+1,sni+1))\n",
    "x[:,1:] = numpy.cumsum( dx, axis=-1 )\n",
    "y = numpy.zeros((snj+1,sni+1))\n",
    "y[1:,:] = numpy.cumsum( dy, axis=-2 )"
   ]
  },
  {
   "cell_type": "code",
   "execution_count": 7,
   "metadata": {
    "collapsed": true
   },
   "outputs": [],
   "source": [
    "# A helper function to use when writing strings in a netcdf file\n",
    "def set_string(variable, value):\n",
    "    \"\"\"Sets \"variable\" to \"value\" padded with blanks where\n",
    "    \"variable\" is a netcdf variable object and \"value\" is a string.\"\"\"\n",
    "    variable[:] = '\\000' * variable.shape[0]\n",
    "    variable[:len(value)] = value"
   ]
  },
  {
   "cell_type": "markdown",
   "metadata": {},
   "source": [
    "Create a netcdf3 horizontal ocean-grid file..."
   ]
  },
  {
   "cell_type": "code",
   "execution_count": 8,
   "metadata": {
    "collapsed": false
   },
   "outputs": [],
   "source": [
    "rg = scipy.io.netcdf_file('ocean_hgrid.nc','w',version=2)"
   ]
  },
  {
   "cell_type": "code",
   "execution_count": 9,
   "metadata": {
    "collapsed": true
   },
   "outputs": [],
   "source": [
    "rg.createDimension('nx',sni)\n",
    "rg.createDimension('ny',snj)\n",
    "rg.createDimension('nxp',sni+1)\n",
    "rg.createDimension('nyp',snj+1)\n",
    "rg.createDimension('string',255)"
   ]
  },
  {
   "cell_type": "code",
   "execution_count": 10,
   "metadata": {
    "collapsed": false
   },
   "outputs": [],
   "source": [
    "dx_h = rg.createVariable('dx','f8',('nyp','nx',))\n",
    "dx_h.units = 'm'\n",
    "dy_h = rg.createVariable('dy','f8',('ny','nxp',))\n",
    "dy_h.units = 'm'\n",
    "area_h = rg.createVariable('area','f8',('ny','nx',))\n",
    "area_h.units = 'm2'\n",
    "x_h = rg.createVariable('x','f8',('nyp','nxp',))\n",
    "x_h.units = 'm'\n",
    "y_h = rg.createVariable('y','f8',('nyp','nxp',))\n",
    "y_h.units = 'm'\n",
    "tile = rg.createVariable('tile','c',('string',))"
   ]
  },
  {
   "cell_type": "code",
   "execution_count": 11,
   "metadata": {
    "collapsed": false
   },
   "outputs": [],
   "source": [
    "dx_h[:,:] = dx[:,:]\n",
    "dy_h[:,:] = dy[:,:]\n",
    "area_h[:,:] = area[:,:]\n",
    "x_h[:,:] = x[:,:]\n",
    "y_h[:,:] = y[:,:]\n",
    "tile[:] = '\\000' * 255\n",
    "tile[:5] = 'tile1'\n",
    "set_string(tile,'tile1')"
   ]
  },
  {
   "cell_type": "code",
   "execution_count": 12,
   "metadata": {
    "collapsed": true
   },
   "outputs": [],
   "source": [
    "rg.close()"
   ]
  },
  {
   "cell_type": "markdown",
   "metadata": {},
   "source": [
    "Create a netcdf3 ocean-mask file..."
   ]
  },
  {
   "cell_type": "code",
   "execution_count": 13,
   "metadata": {
    "collapsed": true
   },
   "outputs": [],
   "source": [
    "rg = scipy.io.netcdf_file('ocean_mask.nc','w',version=2)\n",
    "rg.createDimension('nx',ni)\n",
    "rg.createDimension('ny',nj)\n",
    "mask = rg.createVariable('mask','f4',('ny','nx',))\n",
    "mask[:,:] = 1.\n",
    "rg.close()"
   ]
  },
  {
   "cell_type": "markdown",
   "metadata": {},
   "source": [
    "Create a mosaic description for the above grid file..."
   ]
  },
  {
   "cell_type": "code",
   "execution_count": 14,
   "metadata": {
    "collapsed": false
   },
   "outputs": [],
   "source": [
    "rg = scipy.io.netcdf_file('ocean_mosaic.nc','w',version=2)\n",
    "rg.createDimension('ntiles',1)\n",
    "rg.createDimension('string',255)\n",
    "mosaic = rg.createVariable('mosaic','c',('string',))\n",
    "mosaic.standard_name = 'grid_mosaic_spec'\n",
    "mosaic.children = 'contacts'\n",
    "mosaic.grid_descriptor = ''\n",
    "gridlocation = rg.createVariable('gridlocation','c',('string',))\n",
    "gridlocation.standard_name = 'grid_file_location'\n",
    "gridfiles = rg.createVariable('gridfiles','c',('ntiles','string',))\n",
    "gridtiles = rg.createVariable('gridtiles','c',('ntiles','string',))\n",
    "rg.grid_version = '0.2'\n",
    "# Fill in data\n",
    "mosaic[:] = '\\000' * 255\n",
    "mosaic[:12] = 'ocean_mosaic'\n",
    "gridlocation[:] = '\\000' * 255\n",
    "gridlocation[:2] = './'\n",
    "gridfiles[:] = '\\000' * 255\n",
    "gridfiles[0,:14] = 'ocean_hgrid.nc'\n",
    "gridtiles[:] = '\\000' * 255\n",
    "gridtiles[0,:5] = 'tile1'\n",
    "rg.close()"
   ]
  },
  {
   "cell_type": "code",
   "execution_count": 15,
   "metadata": {
    "collapsed": false
   },
   "outputs": [
    {
     "name": "stdout",
     "output_type": "stream",
     "text": [
      "/home/jovyan/work\r\n"
     ]
    }
   ],
   "source": [
    "!pwd"
   ]
  },
  {
   "cell_type": "code",
   "execution_count": 16,
   "metadata": {
    "collapsed": true
   },
   "outputs": [],
   "source": [
    "# Fake a ocean_topog.nc file\n",
    "rg = scipy.io.netcdf_file('ocean_topog.nc','w',version=2)\n",
    "rg.createDimension('nx',ni)\n",
    "rg.createDimension('ny',nj)\n",
    "rg.createDimension('ntiles',1)\n",
    "depth = rg.createVariable('depth','f4',('ny','nx',))\n",
    "depth[:,:] = 1000.\n",
    "#depth[-1,-1] =0  #One point is being defined as a land point\n",
    "rg.close()"
   ]
  },
  {
   "cell_type": "code",
   "execution_count": 17,
   "metadata": {
    "collapsed": true
   },
   "outputs": [],
   "source": [
    "#fre_nctools/tools/make_quick_mosaic/make_quick_mosaic --input_mosaic ocean_mosaic.nc --ocean_topog ocean_topog.nc\n"
   ]
  },
  {
   "cell_type": "code",
   "execution_count": 18,
   "metadata": {
    "collapsed": false
   },
   "outputs": [],
   "source": [
    "rg = scipy.io.netcdf_file('atmos_mosaic_tile1Xland_mosaic_tile1.nc','w',version=2) # atmos_mosaic_tile1Xland_mosaic_tile1.nc\n",
    "rg.createDimension('string',255)\n",
    "rg.createDimension('ncells',1)\n",
    "rg.createDimension('two',2)\n",
    "contact = rg.createVariable('contact','c',('string',))\n",
    "contact.standard_name = 'grid_contact_spec'\n",
    "contact.contact_type = 'exchange'\n",
    "contact.parent1_cell = 'tile1_cell'\n",
    "contact.parent2_cell = 'tile2_cell'\n",
    "contact.xgrid_area_field = 'xgrid_area'\n",
    "contact.distant_to_parent1_centroid = 'tile1_distance'\n",
    "contact.distant_to_parent2_centroid = 'tile2_distance'\n",
    "tile1_cell = rg.createVariable('tile1_cell','f8',('ncells','two',))\n",
    "tile1_cell.standard_name = 'parent_cell_indices_in_mosaic1'\n",
    "tile2_cell = rg.createVariable('tile2_cell','f8',('ncells','two',))\n",
    "tile2_cell.standard_name = 'parent_cell_indices_in_mosaic2'\n",
    "xgrid_area = rg.createVariable('xgrid_area','f8',('ncells',))\n",
    "xgrid_area.standard_name = 'exchange_grid_area'\n",
    "xgrid_area.units = 'm2'\n",
    "tile1_distance = rg.createVariable('tile1_distance','f8',('ncells','two'))\n",
    "tile1_distance.standard_name = 'distance_from_parent1_cell_centroid'\n",
    "tile2_distance = rg.createVariable('tile2_distance','f8',('ncells','two'))\n",
    "tile2_distance.standard_name = 'distance_from_parent2_cell_centroid'\n",
    "rg.grid_version = '0.2'\n",
    "# Fill in data\n",
    "contact[:] = '\\000' * 255\n",
    "contact[:37] = 'atmos_mosaic:tile1::land_mosaic:tile1'\n",
    "tile1_cell[:] = [ni,nj]\n",
    "tile2_cell[:] = [ni,nj]\n",
    "xgrid_area[:] = dxo * dyo\n",
    "tile1_distance[:] = 0.\n",
    "tile2_distance[:] = 0.\n",
    "rg.close()"
   ]
  },
  {
   "cell_type": "code",
   "execution_count": 19,
   "metadata": {
    "collapsed": false
   },
   "outputs": [],
   "source": [
    "rg = scipy.io.netcdf_file('atmos_mosaic_tile1Xocean_mosaic_tile1.nc','w',version=2) # atmos_mosaic_tile1Xocean_mosaic_tile1.nc\n",
    "rg.createDimension('string',255)\n",
    "rg.createDimension('ncells',ni*nj-nl) # -1 is for a single land point\n",
    "rg.createDimension('two',2)\n",
    "contact = rg.createVariable('contact','c',('string',))\n",
    "contact.standard_name = 'grid_contact_spec'\n",
    "contact.contact_type = 'exchange'\n",
    "contact.parent1_cell = 'tile1_cell'\n",
    "contact.parent2_cell = 'tile2_cell'\n",
    "contact.xgrid_area_field = 'xgrid_area'\n",
    "contact.distant_to_parent1_centroid = 'tile1_distance'\n",
    "contact.distant_to_parent2_centroid = 'tile2_distance'\n",
    "tile1_cell = rg.createVariable('tile1_cell','f8',('ncells','two',))\n",
    "tile1_cell.standard_name = 'parent_cell_indices_in_mosaic1'\n",
    "tile2_cell = rg.createVariable('tile2_cell','f8',('ncells','two',))\n",
    "tile2_cell.standard_name = 'parent_cell_indices_in_mosaic2'\n",
    "xgrid_area = rg.createVariable('xgrid_area','f8',('ncells',))\n",
    "xgrid_area.standard_name = 'exchange_grid_area'\n",
    "xgrid_area.units = 'm2'\n",
    "tile1_distance = rg.createVariable('tile1_distance','f8',('ncells','two'))\n",
    "tile1_distance.standard_name = 'distance_from_parent1_cell_centroid'\n",
    "tile2_distance = rg.createVariable('tile2_distance','f8',('ncells','two'))\n",
    "tile2_distance.standard_name = 'distance_from_parent2_cell_centroid'\n",
    "rg.grid_version = '0.2'\n",
    "# Fill in data\n",
    "contact[:] = '\\000' * 255\n",
    "contact[:37] = 'atmos_mosaic:tile1::land_mosaic:tile1'\n",
    "tile1_cell[:] = [ni,nj]\n",
    "tile2_cell[:] = [ni,nj]\n",
    "xgrid_area[:] = dxo * dyo\n",
    "for j in range(nj):\n",
    "    for i in range(ni):\n",
    "        if (i,j) != (ni-1,nj-1):\n",
    "            tile1_cell[i+ni*j] = [i,j]\n",
    "            tile2_cell[i+ni*j] = [i,j]\n",
    "            tile1_distance[i+ni*j] = [0,0]\n",
    "            tile2_distance[i+ni*j] = [0,0]\n",
    "            xgrid_area[i+ni*j] = dxo * dyo\n",
    "rg.close()"
   ]
  },
  {
   "cell_type": "code",
   "execution_count": 20,
   "metadata": {
    "collapsed": true
   },
   "outputs": [],
   "source": [
    "rg = scipy.io.netcdf_file('land_mosaic_tile1Xocean_mosaic_tile1.nc','w',version=2) # land_mosaic_tile1Xocean_mosaic_tile1.nc\n",
    "rg.createDimension('string',255)\n",
    "rg.createDimension('ncells',ni*nj-nl) # -1 is for a single land point\n",
    "rg.createDimension('two',2)\n",
    "contact = rg.createVariable('contact','c',('string',))\n",
    "contact.standard_name = 'grid_contact_spec'\n",
    "contact.contact_type = 'exchange'\n",
    "contact.parent1_cell = 'tile1_cell'\n",
    "contact.parent2_cell = 'tile2_cell'\n",
    "contact.xgrid_area_field = 'xgrid_area'\n",
    "contact.distant_to_parent1_centroid = 'tile1_distance'\n",
    "contact.distant_to_parent2_centroid = 'tile2_distance'\n",
    "tile1_cell = rg.createVariable('tile1_cell','f8',('ncells','two',))\n",
    "tile1_cell.standard_name = 'parent_cell_indices_in_mosaic1'\n",
    "tile2_cell = rg.createVariable('tile2_cell','f8',('ncells','two',))\n",
    "tile2_cell.standard_name = 'parent_cell_indices_in_mosaic2'\n",
    "xgrid_area = rg.createVariable('xgrid_area','f8',('ncells',))\n",
    "xgrid_area.standard_name = 'exchange_grid_area'\n",
    "xgrid_area.units = 'm2'\n",
    "tile1_distance = rg.createVariable('tile1_distance','f8',('ncells','two'))\n",
    "tile1_distance.standard_name = 'distance_from_parent1_cell_centroid'\n",
    "tile2_distance = rg.createVariable('tile2_distance','f8',('ncells','two'))\n",
    "tile2_distance.standard_name = 'distance_from_parent2_cell_centroid'\n",
    "rg.grid_version = '0.2'\n",
    "# Fill in data\n",
    "contact[:] = '\\000' * 255\n",
    "contact[:37] = 'atmos_mosaic:tile1::land_mosaic:tile1'\n",
    "tile1_cell[:] = [ni,nj]\n",
    "tile2_cell[:] = [ni,nj]\n",
    "xgrid_area[:] = dxo * dyo\n",
    "for j in range(nj):\n",
    "    for i in range(ni):\n",
    "        if (i,j) != (ni-1,nj-1):\n",
    "            tile1_cell[i+ni*j] = [i,j]\n",
    "            tile2_cell[i+ni*j] = [i,j]\n",
    "            tile1_distance[i+ni*j] = [0,0]\n",
    "            tile2_distance[i+ni*j] = [0,0]\n",
    "            xgrid_area[i+ni*j] = dxo * dyo\n",
    "rg.close()"
   ]
  },
  {
   "cell_type": "code",
   "execution_count": 21,
   "metadata": {
    "collapsed": false
   },
   "outputs": [
    {
     "ename": "SyntaxError",
     "evalue": "EOL while scanning string literal (<ipython-input-21-234c6ef942bb>, line 41)",
     "output_type": "error",
     "traceback": [
      "\u001b[1;36m  File \u001b[1;32m\"<ipython-input-21-234c6ef942bb>\"\u001b[1;36m, line \u001b[1;32m41\u001b[0m\n\u001b[1;33m    aXo_file = rg.createVariable('aXo_file','c',('nfile_aXo',string',))\u001b[0m\n\u001b[1;37m                                                                       ^\u001b[0m\n\u001b[1;31mSyntaxError\u001b[0m\u001b[1;31m:\u001b[0m EOL while scanning string literal\n"
     ]
    }
   ],
   "source": [
    "rg = scipy.io.netcdf_file('mosaic.nc','w',version=2) # land_mosaic_tile1Xocean_mosaic_tile1.nc\n",
    "rg.createDimension('string',255)\n",
    "rg.createDimension('nfile_aXo',1) # -1 is for a single land point\n",
    "rg.createDimension('nfile_aXl',1) # -1 is for a single land point\n",
    "rg.createDimension('nfile_lXo',1) # -1 is for a single land point\n",
    "\n",
    "atm_mosaic_dir = rg.createVariable('atm_mosaic_dir','c',('string',))\n",
    "atm_mosaic_dir.standard_name = 'directory_storing_atmosphere_mosaic'\n",
    "\n",
    "atm_mosaic_file = rg.createVariable('atm_mosaic_file','c',('string',))\n",
    "atm_mosaic_file.standard_name = 'atmosphere_mosaic_file_name'\n",
    "\n",
    "atm_mosaic = rg.createVariable('atm_mosaic','c',('string',))\n",
    "atm_mosaic.standard_name = 'atmosphere_mosaic_name'\n",
    "\n",
    "lnd_mosaic_dir = rg.createVariable('lnd_mosaic_dir','c',('string',))\n",
    "lnd_mosaic_dir.standard_name = 'directory_storing_land_mosaic'\n",
    "\n",
    "lnd_mosaic_file = rg.createVariable('lnd_mosaic_file','c',('string',))\n",
    "lnd_mosaic_file.standard_name = 'land_mosaic_file_name'\n",
    "\n",
    "lnd_mosaic = rg.createVariable('lnd_mosaic','c',('string',))\n",
    "lnd_mosaic.standard_name = 'land_mosaic_name'\n",
    "\n",
    "ocn_mosaic_dir = rg.createVariable('ocn_mosaic_dir','c',('string',))\n",
    "ocn_mosaic_dir.standard_name = 'directory_storing_ocean_mosaic'\n",
    "\n",
    "ocn_mosaic_file = rg.createVariable('ocn_mosaic_file','c',('string',))\n",
    "ocn_mosaic_file.standard_name = 'ocean_mosaic_file_name'\n",
    "\n",
    "ocn_mosaic = rg.createVariable('ocn_mosaic','c',('string',))\n",
    "ocn_mosaic.standard_name = 'ocean_mosaic_name'\n",
    "\n",
    "\n",
    "ocn_topog_dir = rg.createVariable('ocn_topog_dir','c',('string',))\n",
    "ocn_mosaic_dir.standard_name = 'directory_storing_ocean_topog'\n",
    "\n",
    "ocn_topog_file = rg.createVariable('ocn_topog_file','c',('string',))\n",
    "ocn_topog_file.standard_name = 'ocean_topog_file_name'\n",
    "\n",
    "aXo_file = rg.createVariable('aXo_file','c',('nfile_aXo',string',))\n",
    "aXo_file.standard_name = 'atmXocn_exchange_grid_file'\n",
    "\n",
    "aXl_file = rg.createVariable('aXl_file','c',('nfile_aXl',string',))\n",
    "aXl_file.standard_name = 'atmXlnd_exchange_grid_file'\n",
    "\n",
    "lXo_file = rg.createVariable('lXo_file','c',('nfile_lXo',string',))\n",
    "lXo_file.standard_name = 'lndXocn_exchange_grid_file'\n",
    "\n",
    "#Global attributes\n",
    "rg.grid_version = '0.2'\n",
    "rg.code_version = \"$Name:  $\"\n",
    "rg.history = \"/net2/aja/workspace/MOM6-examples/ice_ocean_SIS2/OM4_025/preprocessing/fre_nctools/tools/make_quick_mosaic/make_quick_mosaic --input_mosaic ocean_mosaic.nc --ocean_topog ocean_topog.nc\"\n",
    "# Fill in data\n",
    "atm_mosaic_dir[:] = '\\000' * 255\n",
    "atm_mosaic_dir[:2] = './'\n",
    "\n",
    "atm_mosaic_file[:] = '\\000' * 255\n",
    "atm_mosaic_file[:15] = 'ocean_mosaic.nc'\n",
    "\n",
    "atm_mosaic[:] = '\\000' * 255\n",
    "atm_mosaic[:12] = 'atmos_mosaic'\n",
    "\n",
    "lnd_mosaic_dir[:] = '\\000' * 255\n",
    "lnd_mosaic_dir[:2] = './'\n",
    "\n",
    "lnd_mosaic_file[:] = '\\000' * 255\n",
    "lnd_mosaic_file[:15] = 'ocean_mosaic.nc'\n",
    "\n",
    "lnd_mosaic[:] = '\\000' * 255\n",
    "lnd_mosaic[:11] = 'land_mosaic'\n",
    "\n",
    "ocn_mosaic_dir[:] = '\\000' * 255\n",
    "ocn_mosaic_dir[:2] = './'\n",
    "\n",
    "ocn_mosaic_file[:] = '\\000' * 255\n",
    "ocn_mosaic_file[:15] = 'ocean_mosaic.nc'\n",
    "\n",
    "ocn_mosaic[:] = '\\000' * 255\n",
    "ocn_mosaic[:12] = 'ocean_mosaic'\n",
    "\n",
    "ocn_topog_dir[:] = '\\000' * 255\n",
    "ocn_topog_dir[:2] = './'\n",
    "\n",
    "ocn_topog_file[:] = '\\000' * 255\n",
    "ocn_topog_file[:14] = 'ocean_topog.nc'\n",
    "\n",
    "aXo_file[:,:] = '\\000' * 255\n",
    "aXo_file[:,:40] = 'atmos_mosaic_tile1Xocean_mosaic_tile1.nc'\n",
    "\n",
    "aXl_file[:,:] = '\\000' * 255\n",
    "aXl_file[:,:39] = 'atmos_mosaic_tile1Xland_mosaic_tile1.nc'\n",
    "\n",
    "lXo_file[:,:] = '\\000' * 255\n",
    "lXo_file[:,:39] = 'land_mosaic_tile1Xocean_mosaic_tile1.nc'\n",
    "\n",
    "rg.close()\n",
    "\n"
   ]
  },
  {
   "cell_type": "code",
   "execution_count": null,
   "metadata": {
    "collapsed": false
   },
   "outputs": [],
   "source": []
  }
 ],
 "metadata": {
  "kernelspec": {
   "display_name": "Python 3",
   "language": "python",
   "name": "python3"
  },
  "language_info": {
   "codemirror_mode": {
    "name": "ipython",
    "version": 3
   },
   "file_extension": ".py",
   "mimetype": "text/x-python",
   "name": "python",
   "nbconvert_exporter": "python",
   "pygments_lexer": "ipython3",
   "version": "3.4.3"
  }
 },
 "nbformat": 4,
 "nbformat_minor": 0
}
